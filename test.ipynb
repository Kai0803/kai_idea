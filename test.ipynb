{
 "cells": [
  {
   "cell_type": "code",
   "execution_count": 3,
   "metadata": {},
   "outputs": [
    {
     "name": "stdout",
     "output_type": "stream",
     "text": [
      "[{'id': 1, 'name': 'Alice'}, {'id': 2, 'name': 'Bob'}]\n"
     ]
    }
   ],
   "source": [
    "import requests\n",
    "\n",
    "response = requests.get('http://127.0.0.1:5000/data')\n",
    "print(response.json())\n"
   ]
  },
  {
   "cell_type": "code",
   "execution_count": null,
   "metadata": {},
   "outputs": [],
   "source": [
    "import logging\n",
    "\n",
    "# 设置日志记录\n",
    "logging.basicConfig(filename='bybit_trading.log', level=logging.INFO)\n",
    "logging.info(\"这是一个日志信息\")\n",
    "\n",
    "# 发送通知（如通过邮件）\n",
    "def send_notification(message):\n",
    "    # 实现你的通知逻辑\n",
    "    pass\n"
   ]
  },
  {
   "cell_type": "code",
   "execution_count": 1,
   "metadata": {},
   "outputs": [
    {
     "name": "stdout",
     "output_type": "stream",
     "text": [
      "ok\n"
     ]
    }
   ],
   "source": [
    "print('ok')"
   ]
  },
  {
   "cell_type": "code",
   "execution_count": 19,
   "metadata": {},
   "outputs": [
    {
     "name": "stdout",
     "output_type": "stream",
     "text": [
      "資料庫連接成功\n",
      "查詢執行成功\n",
      "資料庫連接已關閉\n"
     ]
    }
   ],
   "source": [
    "import psycopg2\n",
    "from psycopg2 import sql\n",
    "from pybit.unified_trading import HTTP\n",
    "from Sdata import bybitkey,bybit_Secret\n",
    "from datetime import datetime, timezone\n",
    "\n",
    "# Bybit API key\n",
    "api_key = bybitkey\n",
    "api_secret = bybit_Secret\n",
    "\n",
    "# init bybit session\n",
    "session = HTTP(\n",
    "    testnet=False,\n",
    "    api_key=api_key,\n",
    "    api_secret=api_secret\n",
    ")\n",
    "# 資料庫連接參數\n",
    "db_params = {\n",
    "    \"host\": \"123.241.217.251\",\n",
    "    \"database\": \"mydatabase\",\n",
    "    \"user\": \"myuser\",\n",
    "    \"password\": \"mysecretpassword\",\n",
    "    \"port\": \"5432\"\n",
    "}\n",
    "\n",
    "# 連接資料庫\n",
    "def connect_to_db():\n",
    "    try:\n",
    "        conn = psycopg2.connect(**db_params)\n",
    "        print(\"資料庫連接成功\")\n",
    "        return conn\n",
    "    except (Exception, psycopg2.Error) as error:\n",
    "        print(\"連接資料庫時出錯:\", error)\n",
    "        return None\n",
    "\n",
    "# 執行查詢\n",
    "def execute_query(conn, query, params=None):\n",
    "    try:\n",
    "        with conn.cursor() as cur:\n",
    "            if params:\n",
    "                cur.execute(query, params)\n",
    "            else:\n",
    "                cur.execute(query)\n",
    "            conn.commit()\n",
    "            print(\"執行成功\")\n",
    "    except (Exception, psycopg2.Error) as error:\n",
    "        print(\"執行時出錯:\", error)\n",
    "\n",
    "# 獲取查詢結果\n",
    "def fetch_data(conn, query, params=None):\n",
    "    try:\n",
    "        with conn.cursor() as cur:\n",
    "            if params:\n",
    "                cur.execute(query, params)\n",
    "            else:\n",
    "                cur.execute(query)\n",
    "            return cur.fetchall()\n",
    "    except (Exception, psycopg2.Error) as error:\n",
    "        print(\"獲取資料時出錯:\", error)\n",
    "        return None\n",
    "\n",
    "# 使用示例\n",
    "conn = connect_to_db()\n",
    "positions = session.get_positions(category=\"linear\", symbol=\"ETHUSDT\")\n",
    "\n",
    "symbol= positions['result']['list'][0]['symbol']\n",
    "PositionIM= positions['result']['list'][0]['positionIM'] \n",
    "Leverage= positions['result']['list'][0]['leverage']\n",
    "markPrice= positions['result']['list'][0]['markPrice'] \n",
    "AvgPrice= positions['result']['list'][0]['avgPrice'] \n",
    "Size= positions['result']['list'][0]['size']\n",
    "Side= positions['result']['list'][0]['side']\n",
    "CurRealisedPnl= positions['result']['list'][0]['curRealisedPnl'] \n",
    "PositionValue= positions['result']['list'][0]['positionValue'] \n",
    "createdTime= datetime.fromtimestamp(int(positions['result']['list'][0]['updatedTime']) / 1000, timezone.utc).astimezone().strftime('%Y-%m-%d %H:%M:%S')\n",
    "Time= datetime.fromtimestamp(int(positions['time']) / 1000, timezone.utc).astimezone().strftime('%Y-%m-%d %H:%M:%S')\n",
    "if conn:\n",
    "    # 插入資料示例\n",
    "    insert_query = sql.SQL(\"\"\"\n",
    "    INSERT INTO sptd.tdata \n",
    "    (symbol, asset, leverage, buy_price, sell_price, quantity, transaction_type, CurRealisedPnl, PositionValue, create_transaction_time, transaction_time)\n",
    "    VALUES (%s, %s, %s, %s, %s, %s, %s, %s, %s, %s, %s)\n",
    "    \"\"\")\n",
    "    \n",
    "    params = (\n",
    "        symbol, PositionIM, Leverage, markPrice, AvgPrice, Size, Side, \n",
    "        CurRealisedPnl, PositionValue, createdTime, Time\n",
    "    )\n",
    "    \n",
    "    execute_query(conn, insert_query, params)\n",
    "\n",
    "    # # 查詢資料示例\n",
    "    # select_query = \"SELECT * FROM sptd.tdata ORDER BY id DESC LIMIT 5\"\n",
    "    # results = fetch_data(conn, select_query)\n",
    "    # if results:\n",
    "    #     for row in results:\n",
    "    #         print(row)\n",
    "\n",
    "    # 關閉連接\n",
    "    conn.close()\n",
    "    print(\"資料庫連接已關閉\")"
   ]
  },
  {
   "cell_type": "code",
   "execution_count": 5,
   "metadata": {},
   "outputs": [
    {
     "name": "stdout",
     "output_type": "stream",
     "text": [
      "Account Balance: 189.18592417\n"
     ]
    }
   ],
   "source": [
    "import requests\n",
    "import json\n",
    "from pybit.unified_trading import HTTP\n",
    "from Sdata import bybitkey,bybit_Secret\n",
    "from datetime import datetime, timezone\n",
    "\n",
    "# Bybit API key\n",
    "api_key = bybitkey\n",
    "api_secret = bybit_Secret\n",
    "\n",
    "# init bybit session\n",
    "session = HTTP(\n",
    "    testnet=False,\n",
    "    api_key=api_key,\n",
    "    api_secret=api_secret\n",
    ")\n",
    "\n",
    "# 獲取帳戶餘額\n",
    "try:\n",
    "    balance = session.get_wallet_balance(accountType=\"UNIFIED\")\n",
    "    # print(json.dumps(balance, indent=2))\n",
    "    print(f\"Account Balance: {balance['result']['list'][0]['totalEquity']}\")\n",
    "    # print(f\"Account Balance: {balance['result']['list'][0]}\")\n",
    "except Exception as e:\n",
    "    print(f\"Get Account Balance Error: {e}\")\n",
    "\n",
    "# 獲取持倉資訊\n",
    "try:\n",
    "    positions = session.get_positions(category=\"linear\", symbol=\"ETHUSDT\")\n",
    "\n",
    "    symbol:positions['result']['list'][0]['symbol']\n",
    "    PositionIM: {positions['result']['list'][0]['positionIM']} \n",
    "    Leverage: {positions['result']['list'][0]['leverage']}\n",
    "    markPrice: {positions['result']['list'][0]['markPrice']} \n",
    "    AvgPrice: {positions['result']['list'][0]['avgPrice']} \n",
    "    Size: {positions['result']['list'][0]['size']}\n",
    "    Side: {positions['result']['list'][0]['side']}\n",
    "    CurRealisedPnl: {positions['result']['list'][0]['curRealisedPnl']} \n",
    "    PositionValue: {positions['result']['list'][0]['positionValue']} \n",
    "    createdTime: {datetime.fromtimestamp(int(positions['result']['list'][0]['updatedTime']) / 1000, timezone.utc).astimezone().strftime('%Y-%m-%d %H:%M:%S')}\n",
    "    Time: {datetime.fromtimestamp(int(positions['time']) / 1000, timezone.utc).astimezone().strftime('%Y-%m-%d %H:%M:%S')}\n",
    "    \n",
    "    # print(json.dumps(positions, indent=2))\n",
    "except Exception as e:\n",
    "    print(f\"Get Contract Info Error: {e}\")"
   ]
  }
 ],
 "metadata": {
  "kernelspec": {
   "display_name": "Python 3",
   "language": "python",
   "name": "python3"
  },
  "language_info": {
   "codemirror_mode": {
    "name": "ipython",
    "version": 3
   },
   "file_extension": ".py",
   "mimetype": "text/x-python",
   "name": "python",
   "nbconvert_exporter": "python",
   "pygments_lexer": "ipython3",
   "version": "3.10.11"
  }
 },
 "nbformat": 4,
 "nbformat_minor": 2
}

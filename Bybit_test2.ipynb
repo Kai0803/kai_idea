{
 "cells": [
  {
   "cell_type": "code",
   "execution_count": null,
   "metadata": {},
   "outputs": [
    {
     "name": "stdout",
     "output_type": "stream",
     "text": [
      "init processing...\n"
     ]
    },
    {
     "data": {
      "text/plain": [
       "'ROI: 64.0278557987192 %'"
      ]
     },
     "metadata": {},
     "output_type": "display_data"
    },
    {
     "name": "stdout",
     "output_type": "stream",
     "text": [
      "下單成功: Sell 0.001 BTCUSDT\n"
     ]
    }
   ],
   "source": [
    "from IPython.display import clear_output,display, update_display\n",
    "import time\n",
    "from pybit.unified_trading import HTTP\n",
    "from datetime import datetime, timezone\n",
    "from Sdata import bybitkey,bybit_Secret\n",
    "# init bybit session\n",
    "session = HTTP(\n",
    "    testnet=False,\n",
    "    api_key=bybitkey,\n",
    "    api_secret=bybit_Secret\n",
    ")\n",
    "\n",
    "symbol = \"BTCUSDT\"\n",
    "min_qty = 0.001  # 最小下單數量 根據交易對調整\n",
    "print('init processing...')\n",
    "output = display(\"start trading...\", display_id=True)\n",
    "\n",
    "def print_with_clear(message):\n",
    "    clear_output(wait=True)\n",
    "    print(message)\n",
    "\n",
    "def close_all_position():\n",
    "    positions = session.get_positions(category=\"linear\", symbol=\"BTCUSDT\")\n",
    "    response = session.place_order(\n",
    "    category=\"linear\",  # 或 \"inverse\"，根據合約類型設定\n",
    "    symbol=\"BTCUSDT\",\n",
    "    side=\"Sell\",  # 平掉多單的方向為 \"Sell\"\n",
    "    orderType=\"Market\",\n",
    "    qty=positions['result']['list'][0]['size'],\n",
    "    reduceOnly=True,  # 設定為 True 確保這是一個平倉訂單\n",
    "    timeInForce=\"GTC\",  # Good Till Cancel\n",
    "    positionIdx=1,\n",
    "    )\n",
    "    return response\n",
    "\n",
    "def place_order(side, qty):\n",
    "    try:\n",
    "        position_idx = 1 if side == \"Buy\" else 2  #做多用 1 做空用 2\n",
    "        order = session.place_order(\n",
    "            category=\"linear\",\n",
    "            symbol=symbol,\n",
    "            side=side,\n",
    "            orderType=\"Market\",\n",
    "            qty=qty,\n",
    "            positionIdx=position_idx\n",
    "        )\n",
    "        print(f\"下單成功: {side} {qty} {symbol}\")\n",
    "        return order\n",
    "    except Exception as e:\n",
    "        print(f\"下單失敗: {e}\")\n",
    "        return None\n",
    "def get_position():\n",
    "    try:\n",
    "        position = session.get_positions(category=\"linear\", symbol=symbol)\n",
    "        return position['result']['list'][0]\n",
    "    except Exception as e:\n",
    "        print(f\"獲取持倉資訊失敗: {e}\")\n",
    "        return None\n",
    "\n",
    "def calculate_roi(position):\n",
    "    entry_price = float(position['avgPrice'])\n",
    "    current_price = float(position['markPrice'])\n",
    "    return (entry_price - current_price) / entry_price * 100 #*-1 #*-1代表作多\n",
    "\n",
    "def trading_strategy():\n",
    "    while True:\n",
    "        position = get_position()\n",
    "        if position is None:\n",
    "            continue\n",
    "\n",
    "        size = float(position['size'])\n",
    "        \n",
    "        if size == 0:\n",
    "            # if not order，start treading (small_order)\n",
    "            place_order(\"Sell\", min_qty)\n",
    "        else:\n",
    "            roi = calculate_roi(position) * 100\n",
    "            # print(f'ROI: {roi} %')\n",
    "            # print_with_clear(f'ROI: {roi} %')\n",
    "            update_display(f'ROI: {roi} %', display_id=output.display_id)\n",
    "            time.sleep(1)\n",
    "            if roi >= 2000:\n",
    "                # ROI == 20%，平倉重新開始\n",
    "                # place_order(\"Buy\", size)\n",
    "                # print('Order Buy')\n",
    "                # time.sleep(1)  # 等待 order 執行\n",
    "                # place_order(\"Sell\", min_qty)\n",
    "                # print('Order Sell')\n",
    "                ans = close_all_position()\n",
    "                print('平倉',ans)\n",
    "            elif roi <= -75:\n",
    "                print('Order puls Sell')\n",
    "                # ROI == -50%，加倉\n",
    "                place_order(\"Sell\", min_qty)\n",
    "    \n",
    "        # time.sleep(5)  # 每 5 秒更新 output\n",
    "\n",
    "if __name__ == \"__main__\":\n",
    "    trading_strategy()"
   ]
  }
 ],
 "metadata": {
  "kernelspec": {
   "display_name": "Python 3",
   "language": "python",
   "name": "python3"
  },
  "language_info": {
   "codemirror_mode": {
    "name": "ipython",
    "version": 3
   },
   "file_extension": ".py",
   "mimetype": "text/x-python",
   "name": "python",
   "nbconvert_exporter": "python",
   "pygments_lexer": "ipython3",
   "version": "3.10.11"
  }
 },
 "nbformat": 4,
 "nbformat_minor": 2
}
